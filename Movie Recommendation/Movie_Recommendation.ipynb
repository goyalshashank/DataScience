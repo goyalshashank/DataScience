{
 "cells": [
  {
   "cell_type": "markdown",
   "id": "1e67891a",
   "metadata": {},
   "source": [
    "#       Movie Recommendation System"
   ]
  },
  {
   "cell_type": "markdown",
   "id": "e2abd40f",
   "metadata": {},
   "source": [
    "## Objective\n",
    "\n",
    "To utilize movieLens Dataset(https://grouplens.org/datasets/movielens/latest/) and Perform Analytics and Machine Learning for Following Tasks:\n",
    "\n",
    "-    **Task 1: To Recommend Movies based on Ratings Provided by the users**\n",
    "-    **Task 2: To Recommend Movies based on other similar user's viewing experience**\n",
    "\n",
    "we will break these tasks into further sub-tasks"
   ]
  },
  {
   "cell_type": "markdown",
   "id": "3c5fa5b5",
   "metadata": {},
   "source": [
    "### Importing Necessary Libraries"
   ]
  },
  {
   "cell_type": "code",
   "execution_count": 1,
   "id": "e5e90230",
   "metadata": {},
   "outputs": [],
   "source": [
    "import pandas as pd\n",
    "import matplotlib.pyplot as plt\n",
    "import re\n",
    "\n",
    "\n",
    "%matplotlib inline"
   ]
  },
  {
   "cell_type": "markdown",
   "id": "275d6ede",
   "metadata": {},
   "source": [
    "### Reading csv files into project"
   ]
  },
  {
   "cell_type": "code",
   "execution_count": 6,
   "id": "81617819",
   "metadata": {},
   "outputs": [],
   "source": [
    "ratingData = pd.read_csv('Dataset/ratings.csv')\n",
    "\n",
    "moviesData = pd.read_csv('Dataset/movies.csv')\n",
    "\n",
    "linksData = pd.read_csv('Dataset/links.csv')"
   ]
  },
  {
   "cell_type": "code",
   "execution_count": 3,
   "id": "794b4907",
   "metadata": {},
   "outputs": [
    {
     "data": {
      "text/html": [
       "<div>\n",
       "<style scoped>\n",
       "    .dataframe tbody tr th:only-of-type {\n",
       "        vertical-align: middle;\n",
       "    }\n",
       "\n",
       "    .dataframe tbody tr th {\n",
       "        vertical-align: top;\n",
       "    }\n",
       "\n",
       "    .dataframe thead th {\n",
       "        text-align: right;\n",
       "    }\n",
       "</style>\n",
       "<table border=\"1\" class=\"dataframe\">\n",
       "  <thead>\n",
       "    <tr style=\"text-align: right;\">\n",
       "      <th></th>\n",
       "      <th>userId</th>\n",
       "      <th>movieId</th>\n",
       "      <th>rating</th>\n",
       "      <th>timestamp</th>\n",
       "    </tr>\n",
       "  </thead>\n",
       "  <tbody>\n",
       "    <tr>\n",
       "      <th>0</th>\n",
       "      <td>1</td>\n",
       "      <td>1</td>\n",
       "      <td>4.0</td>\n",
       "      <td>964982703</td>\n",
       "    </tr>\n",
       "    <tr>\n",
       "      <th>1</th>\n",
       "      <td>1</td>\n",
       "      <td>3</td>\n",
       "      <td>4.0</td>\n",
       "      <td>964981247</td>\n",
       "    </tr>\n",
       "    <tr>\n",
       "      <th>2</th>\n",
       "      <td>1</td>\n",
       "      <td>6</td>\n",
       "      <td>4.0</td>\n",
       "      <td>964982224</td>\n",
       "    </tr>\n",
       "    <tr>\n",
       "      <th>3</th>\n",
       "      <td>1</td>\n",
       "      <td>47</td>\n",
       "      <td>5.0</td>\n",
       "      <td>964983815</td>\n",
       "    </tr>\n",
       "    <tr>\n",
       "      <th>4</th>\n",
       "      <td>1</td>\n",
       "      <td>50</td>\n",
       "      <td>5.0</td>\n",
       "      <td>964982931</td>\n",
       "    </tr>\n",
       "  </tbody>\n",
       "</table>\n",
       "</div>"
      ],
      "text/plain": [
       "   userId  movieId  rating  timestamp\n",
       "0       1        1     4.0  964982703\n",
       "1       1        3     4.0  964981247\n",
       "2       1        6     4.0  964982224\n",
       "3       1       47     5.0  964983815\n",
       "4       1       50     5.0  964982931"
      ]
     },
     "execution_count": 3,
     "metadata": {},
     "output_type": "execute_result"
    }
   ],
   "source": [
    "ratingData.head()"
   ]
  },
  {
   "cell_type": "code",
   "execution_count": 4,
   "id": "139c8e0a",
   "metadata": {},
   "outputs": [
    {
     "data": {
      "text/html": [
       "<div>\n",
       "<style scoped>\n",
       "    .dataframe tbody tr th:only-of-type {\n",
       "        vertical-align: middle;\n",
       "    }\n",
       "\n",
       "    .dataframe tbody tr th {\n",
       "        vertical-align: top;\n",
       "    }\n",
       "\n",
       "    .dataframe thead th {\n",
       "        text-align: right;\n",
       "    }\n",
       "</style>\n",
       "<table border=\"1\" class=\"dataframe\">\n",
       "  <thead>\n",
       "    <tr style=\"text-align: right;\">\n",
       "      <th></th>\n",
       "      <th>movieId</th>\n",
       "      <th>title</th>\n",
       "      <th>genres</th>\n",
       "    </tr>\n",
       "  </thead>\n",
       "  <tbody>\n",
       "    <tr>\n",
       "      <th>0</th>\n",
       "      <td>1</td>\n",
       "      <td>Toy Story (1995)</td>\n",
       "      <td>Adventure|Animation|Children|Comedy|Fantasy</td>\n",
       "    </tr>\n",
       "    <tr>\n",
       "      <th>1</th>\n",
       "      <td>2</td>\n",
       "      <td>Jumanji (1995)</td>\n",
       "      <td>Adventure|Children|Fantasy</td>\n",
       "    </tr>\n",
       "    <tr>\n",
       "      <th>2</th>\n",
       "      <td>3</td>\n",
       "      <td>Grumpier Old Men (1995)</td>\n",
       "      <td>Comedy|Romance</td>\n",
       "    </tr>\n",
       "    <tr>\n",
       "      <th>3</th>\n",
       "      <td>4</td>\n",
       "      <td>Waiting to Exhale (1995)</td>\n",
       "      <td>Comedy|Drama|Romance</td>\n",
       "    </tr>\n",
       "    <tr>\n",
       "      <th>4</th>\n",
       "      <td>5</td>\n",
       "      <td>Father of the Bride Part II (1995)</td>\n",
       "      <td>Comedy</td>\n",
       "    </tr>\n",
       "  </tbody>\n",
       "</table>\n",
       "</div>"
      ],
      "text/plain": [
       "   movieId                               title  \\\n",
       "0        1                    Toy Story (1995)   \n",
       "1        2                      Jumanji (1995)   \n",
       "2        3             Grumpier Old Men (1995)   \n",
       "3        4            Waiting to Exhale (1995)   \n",
       "4        5  Father of the Bride Part II (1995)   \n",
       "\n",
       "                                        genres  \n",
       "0  Adventure|Animation|Children|Comedy|Fantasy  \n",
       "1                   Adventure|Children|Fantasy  \n",
       "2                               Comedy|Romance  \n",
       "3                         Comedy|Drama|Romance  \n",
       "4                                       Comedy  "
      ]
     },
     "execution_count": 4,
     "metadata": {},
     "output_type": "execute_result"
    }
   ],
   "source": [
    "moviesData.head()"
   ]
  },
  {
   "cell_type": "code",
   "execution_count": 8,
   "id": "fdbdb416",
   "metadata": {},
   "outputs": [
    {
     "data": {
      "text/html": [
       "<div>\n",
       "<style scoped>\n",
       "    .dataframe tbody tr th:only-of-type {\n",
       "        vertical-align: middle;\n",
       "    }\n",
       "\n",
       "    .dataframe tbody tr th {\n",
       "        vertical-align: top;\n",
       "    }\n",
       "\n",
       "    .dataframe thead th {\n",
       "        text-align: right;\n",
       "    }\n",
       "</style>\n",
       "<table border=\"1\" class=\"dataframe\">\n",
       "  <thead>\n",
       "    <tr style=\"text-align: right;\">\n",
       "      <th></th>\n",
       "      <th>movieId</th>\n",
       "      <th>imdbId</th>\n",
       "      <th>tmdbId</th>\n",
       "    </tr>\n",
       "  </thead>\n",
       "  <tbody>\n",
       "    <tr>\n",
       "      <th>0</th>\n",
       "      <td>1</td>\n",
       "      <td>114709</td>\n",
       "      <td>862.0</td>\n",
       "    </tr>\n",
       "    <tr>\n",
       "      <th>1</th>\n",
       "      <td>2</td>\n",
       "      <td>113497</td>\n",
       "      <td>8844.0</td>\n",
       "    </tr>\n",
       "    <tr>\n",
       "      <th>2</th>\n",
       "      <td>3</td>\n",
       "      <td>113228</td>\n",
       "      <td>15602.0</td>\n",
       "    </tr>\n",
       "    <tr>\n",
       "      <th>3</th>\n",
       "      <td>4</td>\n",
       "      <td>114885</td>\n",
       "      <td>31357.0</td>\n",
       "    </tr>\n",
       "    <tr>\n",
       "      <th>4</th>\n",
       "      <td>5</td>\n",
       "      <td>113041</td>\n",
       "      <td>11862.0</td>\n",
       "    </tr>\n",
       "  </tbody>\n",
       "</table>\n",
       "</div>"
      ],
      "text/plain": [
       "   movieId  imdbId   tmdbId\n",
       "0        1  114709    862.0\n",
       "1        2  113497   8844.0\n",
       "2        3  113228  15602.0\n",
       "3        4  114885  31357.0\n",
       "4        5  113041  11862.0"
      ]
     },
     "execution_count": 8,
     "metadata": {},
     "output_type": "execute_result"
    }
   ],
   "source": [
    "linksData.head()"
   ]
  },
  {
   "cell_type": "markdown",
   "id": "26788ee3",
   "metadata": {},
   "source": [
    "## Task 1: To Recommend Movies based on Ratings Provided by the users\n",
    "\n",
    "To achieve This Task we will Perform some sub-tasks:\n",
    "-    **Merging Both Ratings and Movies Dataset**\n",
    "-    **Grouping Merged Dataset Based on movieId**\n",
    "-    **Getting Rating count and mean Ratings**\n",
    "-    **Calculating Recommendation Score**\n",
    "-    **Top 10 Recommended Movies**\n",
    "-    **Top 10 Movies based on Ratings** "
   ]
  },
  {
   "cell_type": "markdown",
   "id": "c311906d",
   "metadata": {},
   "source": [
    "### Merging Both Ratings and Movies Datasets\n",
    "to achieve this we will use **Merge** Function of Pandas Library"
   ]
  },
  {
   "cell_type": "code",
   "execution_count": 53,
   "id": "3b15f958",
   "metadata": {},
   "outputs": [
    {
     "data": {
      "text/html": [
       "<div>\n",
       "<style scoped>\n",
       "    .dataframe tbody tr th:only-of-type {\n",
       "        vertical-align: middle;\n",
       "    }\n",
       "\n",
       "    .dataframe tbody tr th {\n",
       "        vertical-align: top;\n",
       "    }\n",
       "\n",
       "    .dataframe thead th {\n",
       "        text-align: right;\n",
       "    }\n",
       "</style>\n",
       "<table border=\"1\" class=\"dataframe\">\n",
       "  <thead>\n",
       "    <tr style=\"text-align: right;\">\n",
       "      <th></th>\n",
       "      <th>userId</th>\n",
       "      <th>movieId</th>\n",
       "      <th>rating</th>\n",
       "      <th>timestamp</th>\n",
       "      <th>title</th>\n",
       "      <th>genres</th>\n",
       "    </tr>\n",
       "  </thead>\n",
       "  <tbody>\n",
       "    <tr>\n",
       "      <th>0</th>\n",
       "      <td>1</td>\n",
       "      <td>1</td>\n",
       "      <td>4.0</td>\n",
       "      <td>964982703</td>\n",
       "      <td>Toy Story (1995)</td>\n",
       "      <td>Adventure|Animation|Children|Comedy|Fantasy</td>\n",
       "    </tr>\n",
       "    <tr>\n",
       "      <th>1</th>\n",
       "      <td>5</td>\n",
       "      <td>1</td>\n",
       "      <td>4.0</td>\n",
       "      <td>847434962</td>\n",
       "      <td>Toy Story (1995)</td>\n",
       "      <td>Adventure|Animation|Children|Comedy|Fantasy</td>\n",
       "    </tr>\n",
       "    <tr>\n",
       "      <th>2</th>\n",
       "      <td>7</td>\n",
       "      <td>1</td>\n",
       "      <td>4.5</td>\n",
       "      <td>1106635946</td>\n",
       "      <td>Toy Story (1995)</td>\n",
       "      <td>Adventure|Animation|Children|Comedy|Fantasy</td>\n",
       "    </tr>\n",
       "    <tr>\n",
       "      <th>3</th>\n",
       "      <td>15</td>\n",
       "      <td>1</td>\n",
       "      <td>2.5</td>\n",
       "      <td>1510577970</td>\n",
       "      <td>Toy Story (1995)</td>\n",
       "      <td>Adventure|Animation|Children|Comedy|Fantasy</td>\n",
       "    </tr>\n",
       "    <tr>\n",
       "      <th>4</th>\n",
       "      <td>17</td>\n",
       "      <td>1</td>\n",
       "      <td>4.5</td>\n",
       "      <td>1305696483</td>\n",
       "      <td>Toy Story (1995)</td>\n",
       "      <td>Adventure|Animation|Children|Comedy|Fantasy</td>\n",
       "    </tr>\n",
       "  </tbody>\n",
       "</table>\n",
       "</div>"
      ],
      "text/plain": [
       "   userId  movieId  rating   timestamp             title  \\\n",
       "0       1        1     4.0   964982703  Toy Story (1995)   \n",
       "1       5        1     4.0   847434962  Toy Story (1995)   \n",
       "2       7        1     4.5  1106635946  Toy Story (1995)   \n",
       "3      15        1     2.5  1510577970  Toy Story (1995)   \n",
       "4      17        1     4.5  1305696483  Toy Story (1995)   \n",
       "\n",
       "                                        genres  \n",
       "0  Adventure|Animation|Children|Comedy|Fantasy  \n",
       "1  Adventure|Animation|Children|Comedy|Fantasy  \n",
       "2  Adventure|Animation|Children|Comedy|Fantasy  \n",
       "3  Adventure|Animation|Children|Comedy|Fantasy  \n",
       "4  Adventure|Animation|Children|Comedy|Fantasy  "
      ]
     },
     "execution_count": 53,
     "metadata": {},
     "output_type": "execute_result"
    }
   ],
   "source": [
    "wholeData = pd.merge(ratingData,moviesData,on=\"movieId\")\n",
    "\n",
    "\n",
    "wholeData.head()"
   ]
  },
  {
   "cell_type": "code",
   "execution_count": 30,
   "id": "28311b07",
   "metadata": {},
   "outputs": [
    {
     "data": {
      "text/plain": [
       "userId         int64\n",
       "movieId        int64\n",
       "rating       float64\n",
       "timestamp      int64\n",
       "title         object\n",
       "genres        object\n",
       "imdbId         int64\n",
       "tmdbId       float64\n",
       "dtype: object"
      ]
     },
     "execution_count": 30,
     "metadata": {},
     "output_type": "execute_result"
    }
   ],
   "source": [
    "wholeData.dtypes"
   ]
  },
  {
   "cell_type": "markdown",
   "id": "be4cc90e",
   "metadata": {},
   "source": [
    "### Grouping Merged Dataset Based on movieId\n",
    "\n",
    "Generating new Dataset Based on grouping."
   ]
  },
  {
   "cell_type": "code",
   "execution_count": 54,
   "id": "843f232c",
   "metadata": {},
   "outputs": [
    {
     "data": {
      "text/html": [
       "<div>\n",
       "<style scoped>\n",
       "    .dataframe tbody tr th:only-of-type {\n",
       "        vertical-align: middle;\n",
       "    }\n",
       "\n",
       "    .dataframe tbody tr th {\n",
       "        vertical-align: top;\n",
       "    }\n",
       "\n",
       "    .dataframe thead th {\n",
       "        text-align: right;\n",
       "    }\n",
       "</style>\n",
       "<table border=\"1\" class=\"dataframe\">\n",
       "  <thead>\n",
       "    <tr style=\"text-align: right;\">\n",
       "      <th></th>\n",
       "      <th>title</th>\n",
       "      <th>movieId</th>\n",
       "    </tr>\n",
       "    <tr>\n",
       "      <th>movieId</th>\n",
       "      <th></th>\n",
       "      <th></th>\n",
       "    </tr>\n",
       "  </thead>\n",
       "  <tbody>\n",
       "    <tr>\n",
       "      <th>1</th>\n",
       "      <td>['Toy Story (1995)']</td>\n",
       "      <td>1</td>\n",
       "    </tr>\n",
       "    <tr>\n",
       "      <th>2</th>\n",
       "      <td>['Jumanji (1995)']</td>\n",
       "      <td>2</td>\n",
       "    </tr>\n",
       "    <tr>\n",
       "      <th>3</th>\n",
       "      <td>['Grumpier Old Men (1995)']</td>\n",
       "      <td>3</td>\n",
       "    </tr>\n",
       "    <tr>\n",
       "      <th>4</th>\n",
       "      <td>['Waiting to Exhale (1995)']</td>\n",
       "      <td>4</td>\n",
       "    </tr>\n",
       "    <tr>\n",
       "      <th>5</th>\n",
       "      <td>['Father of the Bride Part II (1995)']</td>\n",
       "      <td>5</td>\n",
       "    </tr>\n",
       "    <tr>\n",
       "      <th>6</th>\n",
       "      <td>['Heat (1995)']</td>\n",
       "      <td>6</td>\n",
       "    </tr>\n",
       "    <tr>\n",
       "      <th>7</th>\n",
       "      <td>['Sabrina (1995)']</td>\n",
       "      <td>7</td>\n",
       "    </tr>\n",
       "    <tr>\n",
       "      <th>8</th>\n",
       "      <td>['Tom and Huck (1995)']</td>\n",
       "      <td>8</td>\n",
       "    </tr>\n",
       "    <tr>\n",
       "      <th>9</th>\n",
       "      <td>['Sudden Death (1995)']</td>\n",
       "      <td>9</td>\n",
       "    </tr>\n",
       "    <tr>\n",
       "      <th>10</th>\n",
       "      <td>['GoldenEye (1995)']</td>\n",
       "      <td>10</td>\n",
       "    </tr>\n",
       "  </tbody>\n",
       "</table>\n",
       "</div>"
      ],
      "text/plain": [
       "                                          title  movieId\n",
       "movieId                                                 \n",
       "1                          ['Toy Story (1995)']        1\n",
       "2                            ['Jumanji (1995)']        2\n",
       "3                   ['Grumpier Old Men (1995)']        3\n",
       "4                  ['Waiting to Exhale (1995)']        4\n",
       "5        ['Father of the Bride Part II (1995)']        5\n",
       "6                               ['Heat (1995)']        6\n",
       "7                            ['Sabrina (1995)']        7\n",
       "8                       ['Tom and Huck (1995)']        8\n",
       "9                       ['Sudden Death (1995)']        9\n",
       "10                         ['GoldenEye (1995)']       10"
      ]
     },
     "execution_count": 54,
     "metadata": {},
     "output_type": "execute_result"
    }
   ],
   "source": [
    "newData = pd.DataFrame()\n",
    "\n",
    "newData['title'] = wholeData.groupby('movieId')['title'].unique().astype(str)\n",
    "newData['movieId'] =[movieId for movieId, df in newData.groupby(['movieId'])]\n",
    "\n",
    "newData.head(10)"
   ]
  },
  {
   "cell_type": "markdown",
   "id": "f0fe8481",
   "metadata": {},
   "source": [
    "### Getting Rating count and mean Ratings\n",
    "to achieve this we will use **count** and **mean** functions"
   ]
  },
  {
   "cell_type": "code",
   "execution_count": 55,
   "id": "ccfcd5ef",
   "metadata": {},
   "outputs": [
    {
     "data": {
      "text/html": [
       "<div>\n",
       "<style scoped>\n",
       "    .dataframe tbody tr th:only-of-type {\n",
       "        vertical-align: middle;\n",
       "    }\n",
       "\n",
       "    .dataframe tbody tr th {\n",
       "        vertical-align: top;\n",
       "    }\n",
       "\n",
       "    .dataframe thead th {\n",
       "        text-align: right;\n",
       "    }\n",
       "</style>\n",
       "<table border=\"1\" class=\"dataframe\">\n",
       "  <thead>\n",
       "    <tr style=\"text-align: right;\">\n",
       "      <th></th>\n",
       "      <th>title</th>\n",
       "      <th>movieId</th>\n",
       "      <th>count</th>\n",
       "      <th>avg.rating</th>\n",
       "    </tr>\n",
       "    <tr>\n",
       "      <th>movieId</th>\n",
       "      <th></th>\n",
       "      <th></th>\n",
       "      <th></th>\n",
       "      <th></th>\n",
       "    </tr>\n",
       "  </thead>\n",
       "  <tbody>\n",
       "    <tr>\n",
       "      <th>1</th>\n",
       "      <td>['Toy Story (1995)']</td>\n",
       "      <td>1</td>\n",
       "      <td>215</td>\n",
       "      <td>3.920930</td>\n",
       "    </tr>\n",
       "    <tr>\n",
       "      <th>2</th>\n",
       "      <td>['Jumanji (1995)']</td>\n",
       "      <td>2</td>\n",
       "      <td>110</td>\n",
       "      <td>3.431818</td>\n",
       "    </tr>\n",
       "    <tr>\n",
       "      <th>3</th>\n",
       "      <td>['Grumpier Old Men (1995)']</td>\n",
       "      <td>3</td>\n",
       "      <td>52</td>\n",
       "      <td>3.259615</td>\n",
       "    </tr>\n",
       "    <tr>\n",
       "      <th>4</th>\n",
       "      <td>['Waiting to Exhale (1995)']</td>\n",
       "      <td>4</td>\n",
       "      <td>7</td>\n",
       "      <td>2.357143</td>\n",
       "    </tr>\n",
       "    <tr>\n",
       "      <th>5</th>\n",
       "      <td>['Father of the Bride Part II (1995)']</td>\n",
       "      <td>5</td>\n",
       "      <td>49</td>\n",
       "      <td>3.071429</td>\n",
       "    </tr>\n",
       "  </tbody>\n",
       "</table>\n",
       "</div>"
      ],
      "text/plain": [
       "                                          title  movieId  count  avg.rating\n",
       "movieId                                                                    \n",
       "1                          ['Toy Story (1995)']        1    215    3.920930\n",
       "2                            ['Jumanji (1995)']        2    110    3.431818\n",
       "3                   ['Grumpier Old Men (1995)']        3     52    3.259615\n",
       "4                  ['Waiting to Exhale (1995)']        4      7    2.357143\n",
       "5        ['Father of the Bride Part II (1995)']        5     49    3.071429"
      ]
     },
     "execution_count": 55,
     "metadata": {},
     "output_type": "execute_result"
    }
   ],
   "source": [
    "newData['count'] = wholeData.groupby('movieId')['rating'].count() \n",
    "newData['avg.rating'] = wholeData.groupby('movieId')['rating'].mean()\n",
    "\n",
    "newData.head()"
   ]
  },
  {
   "cell_type": "markdown",
   "id": "14ad1acb",
   "metadata": {},
   "source": [
    "### Calculating Recommendation Score\n",
    "to achieve this we will multiply **count** with **avg. rating**"
   ]
  },
  {
   "cell_type": "code",
   "execution_count": 56,
   "id": "551ded5b",
   "metadata": {},
   "outputs": [
    {
     "data": {
      "text/html": [
       "<div>\n",
       "<style scoped>\n",
       "    .dataframe tbody tr th:only-of-type {\n",
       "        vertical-align: middle;\n",
       "    }\n",
       "\n",
       "    .dataframe tbody tr th {\n",
       "        vertical-align: top;\n",
       "    }\n",
       "\n",
       "    .dataframe thead th {\n",
       "        text-align: right;\n",
       "    }\n",
       "</style>\n",
       "<table border=\"1\" class=\"dataframe\">\n",
       "  <thead>\n",
       "    <tr style=\"text-align: right;\">\n",
       "      <th></th>\n",
       "      <th>title</th>\n",
       "      <th>movieId</th>\n",
       "      <th>count</th>\n",
       "      <th>avg.rating</th>\n",
       "      <th>recommendScore</th>\n",
       "    </tr>\n",
       "    <tr>\n",
       "      <th>movieId</th>\n",
       "      <th></th>\n",
       "      <th></th>\n",
       "      <th></th>\n",
       "      <th></th>\n",
       "      <th></th>\n",
       "    </tr>\n",
       "  </thead>\n",
       "  <tbody>\n",
       "    <tr>\n",
       "      <th>1</th>\n",
       "      <td>['Toy Story (1995)']</td>\n",
       "      <td>1</td>\n",
       "      <td>215</td>\n",
       "      <td>3.920930</td>\n",
       "      <td>843.0</td>\n",
       "    </tr>\n",
       "    <tr>\n",
       "      <th>2</th>\n",
       "      <td>['Jumanji (1995)']</td>\n",
       "      <td>2</td>\n",
       "      <td>110</td>\n",
       "      <td>3.431818</td>\n",
       "      <td>377.5</td>\n",
       "    </tr>\n",
       "    <tr>\n",
       "      <th>3</th>\n",
       "      <td>['Grumpier Old Men (1995)']</td>\n",
       "      <td>3</td>\n",
       "      <td>52</td>\n",
       "      <td>3.259615</td>\n",
       "      <td>169.5</td>\n",
       "    </tr>\n",
       "    <tr>\n",
       "      <th>4</th>\n",
       "      <td>['Waiting to Exhale (1995)']</td>\n",
       "      <td>4</td>\n",
       "      <td>7</td>\n",
       "      <td>2.357143</td>\n",
       "      <td>16.5</td>\n",
       "    </tr>\n",
       "    <tr>\n",
       "      <th>5</th>\n",
       "      <td>['Father of the Bride Part II (1995)']</td>\n",
       "      <td>5</td>\n",
       "      <td>49</td>\n",
       "      <td>3.071429</td>\n",
       "      <td>150.5</td>\n",
       "    </tr>\n",
       "  </tbody>\n",
       "</table>\n",
       "</div>"
      ],
      "text/plain": [
       "                                          title  movieId  count  avg.rating  \\\n",
       "movieId                                                                       \n",
       "1                          ['Toy Story (1995)']        1    215    3.920930   \n",
       "2                            ['Jumanji (1995)']        2    110    3.431818   \n",
       "3                   ['Grumpier Old Men (1995)']        3     52    3.259615   \n",
       "4                  ['Waiting to Exhale (1995)']        4      7    2.357143   \n",
       "5        ['Father of the Bride Part II (1995)']        5     49    3.071429   \n",
       "\n",
       "         recommendScore  \n",
       "movieId                  \n",
       "1                 843.0  \n",
       "2                 377.5  \n",
       "3                 169.5  \n",
       "4                  16.5  \n",
       "5                 150.5  "
      ]
     },
     "execution_count": 56,
     "metadata": {},
     "output_type": "execute_result"
    }
   ],
   "source": [
    "newData['recommendScore'] = newData['count'] * newData['avg.rating']\n",
    "\n",
    "newData.head()"
   ]
  },
  {
   "cell_type": "markdown",
   "id": "19d94ec1",
   "metadata": {},
   "source": [
    "### Top 10 Recommended Movies\n",
    "to achieve this we sort Movies based on recommend Score by using **sort_values** Function"
   ]
  },
  {
   "cell_type": "code",
   "execution_count": 58,
   "id": "3b1f0ed8",
   "metadata": {},
   "outputs": [
    {
     "name": "stdout",
     "output_type": "stream",
     "text": [
      "Below are the Top 10 Recommended Movies:\n"
     ]
    },
    {
     "data": {
      "text/plain": [
       "movieId\n",
       "318              ['Shawshank Redemption, The (1994)']\n",
       "356                           ['Forrest Gump (1994)']\n",
       "296                           ['Pulp Fiction (1994)']\n",
       "2571                           ['Matrix, The (1999)']\n",
       "593              ['Silence of the Lambs, The (1991)']\n",
       "260     ['Star Wars: Episode IV - A New Hope (1977)']\n",
       "110                             ['Braveheart (1995)']\n",
       "2959                            ['Fight Club (1999)']\n",
       "527                       [\"Schindler's List (1993)\"]\n",
       "480                          ['Jurassic Park (1993)']\n",
       "Name: title, dtype: object"
      ]
     },
     "execution_count": 58,
     "metadata": {},
     "output_type": "execute_result"
    }
   ],
   "source": [
    "top = newData.sort_values('recommendScore',ascending=False)\n",
    "print(\"Below are the Top 10 Recommended Movies:\")\n",
    "top.head(10)['title']\n"
   ]
  },
  {
   "cell_type": "markdown",
   "id": "1758d3b1",
   "metadata": {},
   "source": [
    "### Top 10 Movies based on Ratings\n",
    "to achieve this we will first drop all data with rating count less then 100 then sorting on the basis of avg. ratings"
   ]
  },
  {
   "cell_type": "code",
   "execution_count": 59,
   "id": "f1303cdd",
   "metadata": {},
   "outputs": [
    {
     "data": {
      "text/plain": [
       "movieId\n",
       "318               ['Shawshank Redemption, The (1994)']\n",
       "858                          ['Godfather, The (1972)']\n",
       "2959                             ['Fight Club (1999)']\n",
       "1221                ['Godfather: Part II, The (1974)']\n",
       "48516                         ['Departed, The (2006)']\n",
       "1213                             ['Goodfellas (1990)']\n",
       "58559                      ['Dark Knight, The (2008)']\n",
       "50                      ['Usual Suspects, The (1995)']\n",
       "1197                    ['Princess Bride, The (1987)']\n",
       "260      ['Star Wars: Episode IV - A New Hope (1977)']\n",
       "Name: title, dtype: object"
      ]
     },
     "execution_count": 59,
     "metadata": {},
     "output_type": "execute_result"
    }
   ],
   "source": [
    "newData = newData[newData['count']>100]\n",
    "top2 = newData.sort_values('avg.rating',ascending=False)\n",
    "\n",
    "top2.head(10)['title']"
   ]
  }
 ],
 "metadata": {
  "kernelspec": {
   "display_name": "Python 3",
   "language": "python",
   "name": "python3"
  },
  "language_info": {
   "codemirror_mode": {
    "name": "ipython",
    "version": 3
   },
   "file_extension": ".py",
   "mimetype": "text/x-python",
   "name": "python",
   "nbconvert_exporter": "python",
   "pygments_lexer": "ipython3",
   "version": "3.9.5"
  }
 },
 "nbformat": 4,
 "nbformat_minor": 5
}
