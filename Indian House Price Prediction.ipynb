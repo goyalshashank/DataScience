{
 "cells": [
  {
   "cell_type": "markdown",
   "id": "d88a3509",
   "metadata": {},
   "source": [
    "## Indian House Price Prediction\n",
    "\n",
    "### Objective\n",
    "To Predict House Price Based on number of rooms, Property Type, Location Using Multiple Regression"
   ]
  },
  {
   "cell_type": "markdown",
   "id": "2eaad38a",
   "metadata": {},
   "source": [
    "### Importing Necessary Tools"
   ]
  },
  {
   "cell_type": "code",
   "execution_count": 1,
   "id": "bc80dfc4",
   "metadata": {},
   "outputs": [],
   "source": [
    "import matplotlib.pyplot as plt\n",
    "import pandas as pd\n",
    "\n",
    "%matplotlib inline"
   ]
  },
  {
   "cell_type": "markdown",
   "id": "3f2729ff",
   "metadata": {},
   "source": [
    "### Reading Datasets into project"
   ]
  },
  {
   "cell_type": "code",
   "execution_count": 2,
   "id": "b3aad8ee",
   "metadata": {},
   "outputs": [
    {
     "data": {
      "text/html": [
       "<div>\n",
       "<style scoped>\n",
       "    .dataframe tbody tr th:only-of-type {\n",
       "        vertical-align: middle;\n",
       "    }\n",
       "\n",
       "    .dataframe tbody tr th {\n",
       "        vertical-align: top;\n",
       "    }\n",
       "\n",
       "    .dataframe thead th {\n",
       "        text-align: right;\n",
       "    }\n",
       "</style>\n",
       "<table border=\"1\" class=\"dataframe\">\n",
       "  <thead>\n",
       "    <tr style=\"text-align: right;\">\n",
       "      <th></th>\n",
       "      <th>Property_ID</th>\n",
       "      <th>Size(#rooms)</th>\n",
       "      <th>Type</th>\n",
       "      <th>Location</th>\n",
       "      <th>Price</th>\n",
       "    </tr>\n",
       "  </thead>\n",
       "  <tbody>\n",
       "    <tr>\n",
       "      <th>0</th>\n",
       "      <td>1</td>\n",
       "      <td>2</td>\n",
       "      <td>1</td>\n",
       "      <td>1</td>\n",
       "      <td>1480000</td>\n",
       "    </tr>\n",
       "    <tr>\n",
       "      <th>1</th>\n",
       "      <td>2</td>\n",
       "      <td>2</td>\n",
       "      <td>1</td>\n",
       "      <td>1</td>\n",
       "      <td>1035000</td>\n",
       "    </tr>\n",
       "    <tr>\n",
       "      <th>2</th>\n",
       "      <td>3</td>\n",
       "      <td>3</td>\n",
       "      <td>1</td>\n",
       "      <td>1</td>\n",
       "      <td>1465000</td>\n",
       "    </tr>\n",
       "    <tr>\n",
       "      <th>3</th>\n",
       "      <td>4</td>\n",
       "      <td>3</td>\n",
       "      <td>1</td>\n",
       "      <td>1</td>\n",
       "      <td>850000</td>\n",
       "    </tr>\n",
       "    <tr>\n",
       "      <th>4</th>\n",
       "      <td>5</td>\n",
       "      <td>4</td>\n",
       "      <td>1</td>\n",
       "      <td>1</td>\n",
       "      <td>1600000</td>\n",
       "    </tr>\n",
       "  </tbody>\n",
       "</table>\n",
       "</div>"
      ],
      "text/plain": [
       "   Property_ID  Size(#rooms)  Type  Location    Price\n",
       "0            1             2     1         1  1480000\n",
       "1            2             2     1         1  1035000\n",
       "2            3             3     1         1  1465000\n",
       "3            4             3     1         1   850000\n",
       "4            5             4     1         1  1600000"
      ]
     },
     "execution_count": 2,
     "metadata": {},
     "output_type": "execute_result"
    }
   ],
   "source": [
    "historyData = pd.read_csv('datasets/history.csv')\n",
    "propertyData = pd.read_csv('datasets/property.csv')\n",
    "\n",
    "historyData.head()\n"
   ]
  },
  {
   "cell_type": "markdown",
   "id": "c5e9a319",
   "metadata": {},
   "source": [
    "### Understanding Dataset\n",
    "\n",
    "We Have downloaded this dataset from kaggle (https://www.kaggle.com/suryavamsi62/indiahouseprice).\n",
    "\n",
    "-     **Property_ID** eg. 2\n",
    "-     **Size(#rooms)** eg. 3\n",
    "-     **Type** eg. 1\n",
    "-     **Location** eg. 2\n",
    "-     **Price** eg. 850000\n"
   ]
  },
  {
   "cell_type": "markdown",
   "id": "97d663d0",
   "metadata": {},
   "source": [
    "#### Checking if null values are present "
   ]
  },
  {
   "cell_type": "code",
   "execution_count": 3,
   "id": "0fcd8621",
   "metadata": {},
   "outputs": [
    {
     "data": {
      "text/plain": [
       "Property_ID     False\n",
       "Size(#rooms)    False\n",
       "Type            False\n",
       "Location        False\n",
       "Price           False\n",
       "dtype: bool"
      ]
     },
     "execution_count": 3,
     "metadata": {},
     "output_type": "execute_result"
    }
   ],
   "source": [
    "historyData.isnull().any()"
   ]
  },
  {
   "cell_type": "code",
   "execution_count": 4,
   "id": "dcde5abb",
   "metadata": {},
   "outputs": [
    {
     "data": {
      "text/plain": [
       "List_ID         False\n",
       "Size(#rooms)    False\n",
       "Type            False\n",
       "Location        False\n",
       "Price           False\n",
       "dtype: bool"
      ]
     },
     "execution_count": 4,
     "metadata": {},
     "output_type": "execute_result"
    }
   ],
   "source": [
    "propertyData.isnull().any()"
   ]
  },
  {
   "cell_type": "markdown",
   "id": "a2721095",
   "metadata": {},
   "source": [
    "### Task 1: Plotting Different Graphs to visualize how price is changing depending upon different parameters"
   ]
  },
  {
   "cell_type": "code",
   "execution_count": 5,
   "id": "292f95b7",
   "metadata": {},
   "outputs": [
    {
     "data": {
      "image/png": "[encoded data removed]",
      "text/plain": [
       "<Figure size 432x288 with 1 Axes>"
      ]
     },
     "metadata": {
      "needs_background": "light"
     },
     "output_type": "display_data"
    }
   ],
   "source": [
    "plt.plot(historyData['Size(#rooms)'],historyData['Price']/100000)\n",
    "plt.xlabel('No of Rooms')\n",
    "plt.ylabel('Price in Lakhs')\n",
    "plt.show()"
   ]
  },
  {
   "cell_type": "code",
   "execution_count": 6,
   "id": "7ee7069a",
   "metadata": {},
   "outputs": [
    {
     "data": {
      "image/png": "[encoded data removed]",
      "text/plain": [
       "<Figure size 432x288 with 1 Axes>"
      ]
     },
     "metadata": {
      "needs_background": "light"
     },
     "output_type": "display_data"
    }
   ],
   "source": [
    "# Plotting Graph of Size(# rooms) vs Price\n",
    "\n",
    "plt.scatter(historyData['Size(#rooms)'],historyData['Price']/100000)\n",
    "plt.xlabel('No of Rooms')\n",
    "plt.ylabel('Price in Lakhs')\n",
    "plt.show()"
   ]
  },
  {
   "cell_type": "code",
   "execution_count": 7,
   "id": "e906deff",
   "metadata": {},
   "outputs": [
    {
     "data": {
      "image/png": "[encoded data removed]",
      "text/plain": [
       "<Figure size 432x288 with 1 Axes>"
      ]
     },
     "metadata": {
      "needs_background": "light"
     },
     "output_type": "display_data"
    }
   ],
   "source": [
    "# Plotting Graph of Property Type vs Price\n",
    "\n",
    "plt.scatter(historyData['Type'],historyData['Price']/100000)\n",
    "plt.xlabel('Property Type')\n",
    "plt.ylabel('Price in Lakhs')\n",
    "plt.show()"
   ]
  },
  {
   "cell_type": "code",
   "execution_count": 8,
   "id": "554dc3c3",
   "metadata": {},
   "outputs": [
    {
     "data": {
      "image/png": "[encoded data removed]",
      "text/plain": [
       "<Figure size 432x288 with 1 Axes>"
      ]
     },
     "metadata": {
      "needs_background": "light"
     },
     "output_type": "display_data"
    }
   ],
   "source": [
    "# Plotting Graph of Location vs Price\n",
    "\n",
    "plt.scatter(historyData['Location'],historyData['Price']/100000)\n",
    "plt.xlabel('Location')\n",
    "plt.ylabel('Price in Lakhs')\n",
    "plt.show()"
   ]
  },
  {
   "cell_type": "markdown",
   "id": "a6458219",
   "metadata": {},
   "source": [
    "### Task 2: training Linear Regression model with history Dataset "
   ]
  },
  {
   "cell_type": "code",
   "execution_count": 9,
   "id": "298781f2",
   "metadata": {},
   "outputs": [
    {
     "data": {
      "text/plain": [
       "LinearRegression()"
      ]
     },
     "execution_count": 9,
     "metadata": {},
     "output_type": "execute_result"
    }
   ],
   "source": [
    "from sklearn.linear_model import LinearRegression\n",
    "\n",
    "X = historyData[['Size(#rooms)','Type','Location']]\n",
    "y = historyData[['Price']]\n",
    "\n",
    "model = LinearRegression()\n",
    "model.fit(X,y)\n"
   ]
  },
  {
   "cell_type": "markdown",
   "id": "685fcac7",
   "metadata": {},
   "source": [
    "### Task 3: Testing model with property Data and Analysing Accuracy Score"
   ]
  },
  {
   "cell_type": "code",
   "execution_count": 19,
   "id": "c077a8a4",
   "metadata": {},
   "outputs": [
    {
     "name": "stdout",
     "output_type": "stream",
     "text": [
      "Intercept: \n",
      " [548701.76615759]\n",
      "Coefficients: \n",
      " [[ 317823.45720698 -159828.45817339  -73572.89212669]]\n",
      "R2-score: 0.16\n"
     ]
    }
   ],
   "source": [
    "from sklearn.metrics import r2_score,accuracy_score\n",
    "X_test = propertyData[['Size(#rooms)','Type','Location']]\n",
    "y_test = propertyData[['Price']]\n",
    "\n",
    "\n",
    "    \n",
    "y_predict = model.predict(X_test)\n",
    "print('Intercept: \\n', model.intercept_)\n",
    "print('Coefficients: \\n', model.coef_)\n",
    "\n",
    "print(\"R2-score: %.2f\" % r2_score(y_test , y_predict) )\n",
    "\n"
   ]
  },
  {
   "cell_type": "code",
   "execution_count": null,
   "id": "eba62e4b",
   "metadata": {},
   "outputs": [],
   "source": []
  },
  {
   "cell_type": "markdown",
   "id": "168ce655",
   "metadata": {},
   "source": [
    "### Task 4: Developing Another Model with Decision Tree Regressor"
   ]
  },
  {
   "cell_type": "code",
   "execution_count": 26,
   "id": "97287b9f",
   "metadata": {},
   "outputs": [
    {
     "data": {
      "text/plain": [
       "array([0.5278495 , 0.55218981, 0.53299485, 0.52330014, 0.53655286,\n",
       "       0.51144041, 0.51107279, 0.51704902, 0.55025631, 0.51585271])"
      ]
     },
     "execution_count": 26,
     "metadata": {},
     "output_type": "execute_result"
    }
   ],
   "source": [
    "from sklearn.tree import DecisionTreeRegressor\n",
    "from sklearn.model_selection import cross_val_score\n",
    "from sklearn.model_selection import ShuffleSplit\n",
    "\n",
    "cv = ShuffleSplit(n_splits = 10, test_size = 0.2, random_state = 0)\n",
    "cv.get_n_splits(X)\n",
    "\n",
    "regressor = DecisionTreeRegressor(random_state=0)\n",
    "cross_val_score(regressor, X, y, cv=cv)"
   ]
  },
  {
   "cell_type": "code",
   "execution_count": null,
   "id": "3cefbca4",
   "metadata": {},
   "outputs": [],
   "source": []
  }
 ],
 "metadata": {
  "kernelspec": {
   "display_name": "Python 3",
   "language": "python",
   "name": "python3"
  },
  "language_info": {
   "codemirror_mode": {
    "name": "ipython",
    "version": 3
   },
   "file_extension": ".py",
   "mimetype": "text/x-python",
   "name": "python",
   "nbconvert_exporter": "python",
   "pygments_lexer": "ipython3",
   "version": "3.9.5"
  }
 },
 "nbformat": 4,
 "nbformat_minor": 5
}
